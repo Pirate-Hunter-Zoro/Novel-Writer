{
 "cells": [
  {
   "cell_type": "code",
   "execution_count": null,
   "metadata": {
    "colab": {
     "base_uri": "https://localhost:8080/"
    },
    "executionInfo": {
     "elapsed": 60180,
     "status": "ok",
     "timestamp": 1749835033337,
     "user": {
      "displayName": "Mikey Ferguson",
      "userId": "15157226160523521069"
     },
     "user_tz": 300
    },
    "id": "IXaKnvZq-BJY",
    "outputId": "0295697c-b3e2-4f3a-aa59-474eb4aac017"
   },
   "outputs": [],
   "source": [
    "! pip install bitsandbytes\n",
    "! pip install huggingface_hub\n",
    "! pip install transformers\n",
    "! pip install torch\n",
    "! pip install accelerate\n",
    "\n",
    "# OR\n",
    "# ! pip install -r requirements.txt"
   ]
  },
  {
   "cell_type": "code",
   "execution_count": null,
   "metadata": {
    "colab": {
     "base_uri": "https://localhost:8080/"
    },
    "executionInfo": {
     "elapsed": 89184,
     "status": "ok",
     "timestamp": 1749836450949,
     "user": {
      "displayName": "Mikey Ferguson",
      "userId": "15157226160523521069"
     },
     "user_tz": 300
    },
    "id": "58KZ0BQzQm3i",
    "outputId": "7bef8fe4-8b90-4bc7-af36-cc1a9d1655c7"
   },
   "outputs": [],
   "source": [
    "# Make sure your Google Drive is mounted!\n",
    "from google.colab import drive\n",
    "drive.mount('/content/drive')\n",
    "\n",
    "from transformers import AutoModelForCausalLM, AutoTokenizer\n",
    "import torch\n",
    "\n",
    "# Define the local path where your model is saved\n",
    "local_model_path = \"/content/drive/My Drive/vllm_models/Meta-Llama-3.1-8B-Instruct\"\n",
    "\n",
    "print(f\"Loading tokenizer from {local_model_path}...\")\n",
    "tokenizer = AutoTokenizer.from_pretrained(local_model_path)\n",
    "\n",
    "print(f\"Loading model from {local_model_path} (This will take a bit, and requires a lot of RAM!)...\")\n",
    "# Make sure you have enough GPU RAM for the 70B model!\n",
    "# We'll load it on the GPU (cuda) and specify torch_dtype=torch.bfloat16 for better performance/memory if supported,\n",
    "# or torch.float16 if not. Since it's bnb-4bit, it's already quantized.\n",
    "model = AutoModelForCausalLM.from_pretrained(\n",
    "    local_model_path,\n",
    "    torch_dtype=torch.bfloat16, # Use bfloat16 for better precision if your GPU supports it\n",
    "    device_map=\"auto\" # Automatically maps layers to available devices (GPUs)\n",
    ")\n",
    "\n",
    "print(\"Model loaded! Now, let's try a query!\")\n",
    "\n",
    "# --- Querying the model ---\n",
    "# This is a basic way to interact with the model.\n",
    "# For your Author/Critic LLM setup, you'll build more complex interaction loops!\n",
    "\n",
    "prompt = \"Write a short, whimsical story about a squirrel who invents a tiny, acorn-powered spaceship.\"\n",
    "messages = [\n",
    "    {\"role\": \"system\", \"content\": \"You are a helpful and creative story-writing assistant.\"},\n",
    "    {\"role\": \"user\", \"content\": prompt}\n",
    "]\n",
    "\n",
    "# Apply the chat template to format your messages for the Llama-3.1-Instruct model\n",
    "input_ids = tokenizer.apply_chat_template(\n",
    "    messages,\n",
    "    add_generation_prompt=True,\n",
    "    return_tensors=\"pt\"\n",
    ").to(model.device) # Move inputs to the same device as the model\n",
    "\n",
    "print(\"\\nGenerating response...\")\n",
    "output_ids = model.generate(\n",
    "    input_ids,\n",
    "    max_new_tokens=1000, # How long of a response you want\n",
    "    do_sample=True,\n",
    "    temperature=0.7,\n",
    "    top_k=50,\n",
    "    top_p=0.95,\n",
    "    repetition_penalty=1.1 # Helps prevent repetitive text\n",
    ")\n",
    "\n",
    "# Decode the generated text\n",
    "response = tokenizer.decode(output_ids[0][input_ids.shape[1]:], skip_special_tokens=True)\n",
    "\n",
    "print(\"\\n--- Generated Story ---\")\n",
    "print(response)\n",
    "print(\"-----------------------\")"
   ]
  },
  {
   "cell_type": "code",
   "execution_count": null,
   "metadata": {},
   "outputs": [],
   "source": []
  }
 ],
 "metadata": {
  "accelerator": "GPU",
  "colab": {
   "authorship_tag": "ABX9TyNCYZM6k9vCqcRbGJeOWkBJ",
   "gpuType": "T4",
   "provenance": []
  },
  "kernelspec": {
   "display_name": "venv",
   "language": "python",
   "name": "python3"
  },
  "language_info": {
   "name": "python",
   "version": "3.11.13"
  }
 },
 "nbformat": 4,
 "nbformat_minor": 0
}
